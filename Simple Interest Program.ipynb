{
 "cells": [
  {
   "cell_type": "code",
   "execution_count": 6,
   "id": "5ef03bc9",
   "metadata": {},
   "outputs": [
    {
     "name": "stdout",
     "output_type": "stream",
     "text": [
      "Enter Principal Amount\n",
      "10000\n",
      "Enter Tenure in Years\n",
      "2\n",
      "Enter Rate of Interest\n",
      "5\n",
      " The Intrest is  1000.0\n"
     ]
    }
   ],
   "source": [
    "p = int (input ( \"Enter Principal Amount\\n\"))\n",
    "t = int (input ( \"Enter Tenure in Years\\n\"))\n",
    "r = int (input ( \"Enter Rate of Interest\\n\"))\n",
    "si = (p*t*r/100)\n",
    "print  (\" The Intrest is \",si)\n"
   ]
  },
  {
   "cell_type": "code",
   "execution_count": null,
   "id": "81c4e831",
   "metadata": {},
   "outputs": [],
   "source": []
  }
 ],
 "metadata": {
  "kernelspec": {
   "display_name": "Python 3",
   "language": "python",
   "name": "python3"
  },
  "language_info": {
   "codemirror_mode": {
    "name": "ipython",
    "version": 3
   },
   "file_extension": ".py",
   "mimetype": "text/x-python",
   "name": "python",
   "nbconvert_exporter": "python",
   "pygments_lexer": "ipython3",
   "version": "3.8.8"
  }
 },
 "nbformat": 4,
 "nbformat_minor": 5
}
